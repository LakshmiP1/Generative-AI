{
  "nbformat": 4,
  "nbformat_minor": 0,
  "metadata": {
    "colab": {
      "provenance": [],
      "authorship_tag": "ABX9TyP7wcyHP/sQJHrNHj/1FjSU",
      "include_colab_link": true
    },
    "kernelspec": {
      "name": "python3",
      "display_name": "Python 3"
    },
    "language_info": {
      "name": "python"
    }
  },
  "cells": [
    {
      "cell_type": "markdown",
      "metadata": {
        "id": "view-in-github",
        "colab_type": "text"
      },
      "source": [
        "<a href=\"https://colab.research.google.com/github/LakshmiP1/Generative-AI/blob/main/Dictionary_var_.ipynb\" target=\"_parent\"><img src=\"https://colab.research.google.com/assets/colab-badge.svg\" alt=\"Open In Colab\"/></a>"
      ]
    },
    {
      "cell_type": "code",
      "execution_count": 43,
      "metadata": {
        "id": "9vCJIxleOxGY"
      },
      "outputs": [],
      "source": [
        "d = {}"
      ]
    },
    {
      "cell_type": "code",
      "source": [
        "type(d)"
      ],
      "metadata": {
        "colab": {
          "base_uri": "https://localhost:8080/"
        },
        "id": "-OIAtblPO7DC",
        "outputId": "488a63a9-8382-48d6-f9b6-24b100464737"
      },
      "execution_count": 35,
      "outputs": [
        {
          "output_type": "execute_result",
          "data": {
            "text/plain": [
              "dict"
            ]
          },
          "metadata": {},
          "execution_count": 35
        }
      ]
    },
    {
      "cell_type": "code",
      "source": [
        "d1 = {\"name\":\"sudh\",\"email_id\":\"ls@gmail.com\",\"number\":12345}"
      ],
      "metadata": {
        "id": "3nSEm6RuO9rl"
      },
      "execution_count": 36,
      "outputs": []
    },
    {
      "cell_type": "code",
      "source": [
        "d2 = {\"name\":\"laks\",\"name\":\"lakshmi\"}"
      ],
      "metadata": {
        "id": "3T3vOyVRO9jR"
      },
      "execution_count": 37,
      "outputs": []
    },
    {
      "cell_type": "markdown",
      "source": [
        "## In dictionaries the keys are not duplicated, keys will be unique.... values can be duplicated.\n",
        "\n",
        "## whenever you are trying to create a dictionary the keys will be unique.\n",
        "\n",
        "## If you are same name for two keys, the first key will be updated with second key value. The reason is key should be unique.\n",
        "\n",
        ""
      ],
      "metadata": {
        "id": "Shd-ZOcXPd4N"
      }
    },
    {
      "cell_type": "code",
      "source": [
        "d2"
      ],
      "metadata": {
        "colab": {
          "base_uri": "https://localhost:8080/"
        },
        "id": "sNvDb6wHPa7_",
        "outputId": "2c8805a0-67e5-44bb-845d-2030e5e6cefd"
      },
      "execution_count": 38,
      "outputs": [
        {
          "output_type": "execute_result",
          "data": {
            "text/plain": [
              "{'name': 'lakshmi'}"
            ]
          },
          "metadata": {},
          "execution_count": 38
        }
      ]
    },
    {
      "cell_type": "code",
      "source": [
        "# key can be integer value\n",
        "d3 = {123:\"sdfs\"}\n",
        "d3"
      ],
      "metadata": {
        "colab": {
          "base_uri": "https://localhost:8080/"
        },
        "id": "xEBRSpWxPa1r",
        "outputId": "98af0ca6-9092-4840-a760-a916f4012143"
      },
      "execution_count": 39,
      "outputs": [
        {
          "output_type": "execute_result",
          "data": {
            "text/plain": [
              "{123: 'sdfs'}"
            ]
          },
          "metadata": {},
          "execution_count": 39
        }
      ]
    },
    {
      "cell_type": "code",
      "source": [
        "# Key can be float value\n",
        "d4 = {1234.6:\"dbfmsn\"}\n",
        "d4"
      ],
      "metadata": {
        "colab": {
          "base_uri": "https://localhost:8080/"
        },
        "id": "pYlJfG0rO9c6",
        "outputId": "1909226b-f71b-4fd2-fa81-85449f87beae"
      },
      "execution_count": 40,
      "outputs": [
        {
          "output_type": "execute_result",
          "data": {
            "text/plain": [
              "{1234.6: 'dbfmsn'}"
            ]
          },
          "metadata": {},
          "execution_count": 40
        }
      ]
    },
    {
      "cell_type": "code",
      "source": [
        "# key can be a boolean value\n",
        "d5 = {True:1}\n",
        "d5"
      ],
      "metadata": {
        "colab": {
          "base_uri": "https://localhost:8080/"
        },
        "id": "LRXCc4lgO9QK",
        "outputId": "2e143dbe-e77a-44ff-fb62-1b6289088e9d"
      },
      "execution_count": 41,
      "outputs": [
        {
          "output_type": "execute_result",
          "data": {
            "text/plain": [
              "{True: 1}"
            ]
          },
          "metadata": {},
          "execution_count": 41
        }
      ]
    },
    {
      "cell_type": "code",
      "source": [
        "# key can't be special characters\n",
        "d6 = {@:1}\n",
        "d6"
      ],
      "metadata": {
        "colab": {
          "base_uri": "https://localhost:8080/",
          "height": 140
        },
        "id": "NlY23lbeO9FB",
        "outputId": "3804ec5b-7a38-49e2-c711-53c9a0c77c44"
      },
      "execution_count": 42,
      "outputs": [
        {
          "output_type": "error",
          "ename": "SyntaxError",
          "evalue": "invalid syntax (<ipython-input-42-5a675066d704>, line 2)",
          "traceback": [
            "\u001b[0;36m  File \u001b[0;32m\"<ipython-input-42-5a675066d704>\"\u001b[0;36m, line \u001b[0;32m2\u001b[0m\n\u001b[0;31m    d6 = {@:1}\u001b[0m\n\u001b[0m          ^\u001b[0m\n\u001b[0;31mSyntaxError\u001b[0m\u001b[0;31m:\u001b[0m invalid syntax\n"
          ]
        }
      ]
    },
    {
      "cell_type": "code",
      "source": [
        "d7 = {[1,2,3]:\"abc\"}\n",
        "d7"
      ],
      "metadata": {
        "colab": {
          "base_uri": "https://localhost:8080/",
          "height": 193
        },
        "id": "v1uRl9i1XiGV",
        "outputId": "52e07c75-aed2-49aa-9dba-748dd401d927"
      },
      "execution_count": 44,
      "outputs": [
        {
          "output_type": "error",
          "ename": "TypeError",
          "evalue": "unhashable type: 'list'",
          "traceback": [
            "\u001b[0;31m---------------------------------------------------------------------------\u001b[0m",
            "\u001b[0;31mTypeError\u001b[0m                                 Traceback (most recent call last)",
            "\u001b[0;32m<ipython-input-44-b22a2233d4a0>\u001b[0m in \u001b[0;36m<cell line: 1>\u001b[0;34m()\u001b[0m\n\u001b[0;32m----> 1\u001b[0;31m \u001b[0md7\u001b[0m \u001b[0;34m=\u001b[0m \u001b[0;34m{\u001b[0m\u001b[0;34m[\u001b[0m\u001b[0;36m1\u001b[0m\u001b[0;34m,\u001b[0m\u001b[0;36m2\u001b[0m\u001b[0;34m,\u001b[0m\u001b[0;36m3\u001b[0m\u001b[0;34m]\u001b[0m\u001b[0;34m:\u001b[0m\u001b[0;34m\"abc\"\u001b[0m\u001b[0;34m}\u001b[0m\u001b[0;34m\u001b[0m\u001b[0;34m\u001b[0m\u001b[0m\n\u001b[0m\u001b[1;32m      2\u001b[0m \u001b[0md7\u001b[0m\u001b[0;34m\u001b[0m\u001b[0;34m\u001b[0m\u001b[0m\n",
            "\u001b[0;31mTypeError\u001b[0m: unhashable type: 'list'"
          ]
        }
      ]
    },
    {
      "cell_type": "markdown",
      "source": [
        "## The “TypeError: unhashable type: 'list'” error is raised when you try to assign a list as a key in a dictionary. To solve this error, ensure you only assign a hashable object, such as a string or a tuple, as a key for a dictionary.\n",
        "\n",
        "## System will not be able to create a hash map code for list why because list is a unhashable type."
      ],
      "metadata": {
        "id": "TWP3IfNfYxvN"
      }
    },
    {
      "cell_type": "code",
      "source": [
        "## tuples can be working as a key because it is a hashable object\n",
        "d8 = {(1,2,3):12}\n",
        "d8"
      ],
      "metadata": {
        "colab": {
          "base_uri": "https://localhost:8080/"
        },
        "id": "9zdgoJ2iY0N4",
        "outputId": "af5889db-2c35-4afc-9af5-249846ced4e7"
      },
      "execution_count": 45,
      "outputs": [
        {
          "output_type": "execute_result",
          "data": {
            "text/plain": [
              "{(1, 2, 3): 12}"
            ]
          },
          "metadata": {},
          "execution_count": 45
        }
      ]
    },
    {
      "cell_type": "code",
      "source": [
        "d9 = {{1,2,3}:\"abc\"}"
      ],
      "metadata": {
        "colab": {
          "base_uri": "https://localhost:8080/",
          "height": 175
        },
        "id": "1Yx37OnZY1k2",
        "outputId": "9b659f06-d8bd-4062-8739-c352c1d1798d"
      },
      "execution_count": 46,
      "outputs": [
        {
          "output_type": "error",
          "ename": "TypeError",
          "evalue": "unhashable type: 'set'",
          "traceback": [
            "\u001b[0;31m---------------------------------------------------------------------------\u001b[0m",
            "\u001b[0;31mTypeError\u001b[0m                                 Traceback (most recent call last)",
            "\u001b[0;32m<ipython-input-46-044fcd25ab27>\u001b[0m in \u001b[0;36m<cell line: 1>\u001b[0;34m()\u001b[0m\n\u001b[0;32m----> 1\u001b[0;31m \u001b[0md9\u001b[0m \u001b[0;34m=\u001b[0m \u001b[0;34m{\u001b[0m\u001b[0;34m{\u001b[0m\u001b[0;36m1\u001b[0m\u001b[0;34m,\u001b[0m\u001b[0;36m2\u001b[0m\u001b[0;34m,\u001b[0m\u001b[0;36m3\u001b[0m\u001b[0;34m}\u001b[0m\u001b[0;34m:\u001b[0m\u001b[0;34m\"abc\"\u001b[0m\u001b[0;34m}\u001b[0m\u001b[0;34m\u001b[0m\u001b[0;34m\u001b[0m\u001b[0m\n\u001b[0m",
            "\u001b[0;31mTypeError\u001b[0m: unhashable type: 'set'"
          ]
        }
      ]
    },
    {
      "cell_type": "code",
      "source": [
        "d10 = {{\"key\":123}:123}"
      ],
      "metadata": {
        "colab": {
          "base_uri": "https://localhost:8080/",
          "height": 175
        },
        "id": "2OJ0NdvcY1hw",
        "outputId": "488e1190-14ad-445b-e5f6-e38b8721aa5c"
      },
      "execution_count": 47,
      "outputs": [
        {
          "output_type": "error",
          "ename": "TypeError",
          "evalue": "unhashable type: 'dict'",
          "traceback": [
            "\u001b[0;31m---------------------------------------------------------------------------\u001b[0m",
            "\u001b[0;31mTypeError\u001b[0m                                 Traceback (most recent call last)",
            "\u001b[0;32m<ipython-input-47-46c5a44d86ce>\u001b[0m in \u001b[0;36m<cell line: 1>\u001b[0;34m()\u001b[0m\n\u001b[0;32m----> 1\u001b[0;31m \u001b[0md10\u001b[0m \u001b[0;34m=\u001b[0m \u001b[0;34m{\u001b[0m\u001b[0;34m{\u001b[0m\u001b[0;34m\"key\"\u001b[0m\u001b[0;34m:\u001b[0m\u001b[0;36m123\u001b[0m\u001b[0;34m}\u001b[0m\u001b[0;34m:\u001b[0m\u001b[0;36m123\u001b[0m\u001b[0;34m}\u001b[0m\u001b[0;34m\u001b[0m\u001b[0;34m\u001b[0m\u001b[0m\n\u001b[0m",
            "\u001b[0;31mTypeError\u001b[0m: unhashable type: 'dict'"
          ]
        }
      ]
    },
    {
      "cell_type": "code",
      "source": [
        "d11 = {\"course_name\":[\"data science master\",\"web dev\",\"java with dsa and system design\"]}\n",
        "d11"
      ],
      "metadata": {
        "colab": {
          "base_uri": "https://localhost:8080/"
        },
        "id": "NCBwhOpPY1ec",
        "outputId": "260335d7-4154-47f1-8855-e29328971290"
      },
      "execution_count": 48,
      "outputs": [
        {
          "output_type": "execute_result",
          "data": {
            "text/plain": [
              "{'course_name': ['data science master',\n",
              "  'web dev',\n",
              "  'java with dsa and system design']}"
            ]
          },
          "metadata": {},
          "execution_count": 48
        }
      ]
    },
    {
      "cell_type": "code",
      "source": [
        "d13 = {\"key\":(1,2,3)}\n",
        "d13"
      ],
      "metadata": {
        "colab": {
          "base_uri": "https://localhost:8080/"
        },
        "id": "Kg1-X0TcY1az",
        "outputId": "19f16f8f-36a5-44e3-b587-27311f0b367f"
      },
      "execution_count": 49,
      "outputs": [
        {
          "output_type": "execute_result",
          "data": {
            "text/plain": [
              "{'key': (1, 2, 3)}"
            ]
          },
          "metadata": {},
          "execution_count": 49
        }
      ]
    },
    {
      "cell_type": "code",
      "source": [
        "d14 = {\"key\":{1,2,3,4}}\n",
        "d14"
      ],
      "metadata": {
        "colab": {
          "base_uri": "https://localhost:8080/"
        },
        "id": "WuV1Mny0Y1XI",
        "outputId": "45a63921-fe64-448e-95c6-6ac74dad16a8"
      },
      "execution_count": 50,
      "outputs": [
        {
          "output_type": "execute_result",
          "data": {
            "text/plain": [
              "{'key': {1, 2, 3, 4}}"
            ]
          },
          "metadata": {},
          "execution_count": 50
        }
      ]
    },
    {
      "cell_type": "code",
      "source": [
        "d15 = {\"Student\":{\"name\":\"laks\",\"college_name\":\"rvr\"}}\n",
        "d15"
      ],
      "metadata": {
        "colab": {
          "base_uri": "https://localhost:8080/"
        },
        "id": "EniFX-PTY1Sd",
        "outputId": "c7b1b479-5160-4e80-ad41-c6192123ca13"
      },
      "execution_count": 51,
      "outputs": [
        {
          "output_type": "execute_result",
          "data": {
            "text/plain": [
              "{'Student': {'name': 'laks', 'college_name': 'rvr'}}"
            ]
          },
          "metadata": {},
          "execution_count": 51
        }
      ]
    },
    {
      "cell_type": "code",
      "source": [
        "d16 = {\"batch_name\":['data science masters','web dev','JDG'],\"start_date\":(12,3,24),\"mentor_name\":{'anurag',\"amarnath\",\"lakshmi\",\"krish naik\",\"Sudhanshu\"}}\n",
        "d16"
      ],
      "metadata": {
        "colab": {
          "base_uri": "https://localhost:8080/"
        },
        "id": "dP2nnJ-bY1LN",
        "outputId": "399b9855-9ee0-4c57-8df9-41777511387f"
      },
      "execution_count": 52,
      "outputs": [
        {
          "output_type": "execute_result",
          "data": {
            "text/plain": [
              "{'batch_name': ['data science masters', 'web dev', 'JDG'],\n",
              " 'start_date': (12, 3, 24),\n",
              " 'mentor_name': {'Sudhanshu', 'amarnath', 'anurag', 'krish naik', 'lakshmi'}}"
            ]
          },
          "metadata": {},
          "execution_count": 52
        }
      ]
    },
    {
      "cell_type": "markdown",
      "source": [
        "### How to add a new kay and value to a existing dictionary"
      ],
      "metadata": {
        "id": "rMFOL1Mudm4Z"
      }
    },
    {
      "cell_type": "code",
      "source": [
        "d16['timing'] = {8,10,6}\n",
        "d16"
      ],
      "metadata": {
        "colab": {
          "base_uri": "https://localhost:8080/"
        },
        "id": "BCz1RI72Y1Dt",
        "outputId": "cb46f0b8-3d7c-41d0-dbd9-826cc4e21f3d"
      },
      "execution_count": 53,
      "outputs": [
        {
          "output_type": "execute_result",
          "data": {
            "text/plain": [
              "{'batch_name': ['data science masters', 'web dev', 'JDG'],\n",
              " 'start_date': (12, 3, 24),\n",
              " 'mentor_name': {'Sudhanshu', 'amarnath', 'anurag', 'krish naik', 'lakshmi'},\n",
              " 'timing': {6, 8, 10}}"
            ]
          },
          "metadata": {},
          "execution_count": 53
        }
      ]
    },
    {
      "cell_type": "markdown",
      "source": [
        "## when we are trying to add new values to a existing dictionary, it will update the existing values with the new values"
      ],
      "metadata": {
        "id": "A38k_LslfR3n"
      }
    },
    {
      "cell_type": "code",
      "source": [
        "d16['timing'] = [8,8,10]\n",
        "d16"
      ],
      "metadata": {
        "colab": {
          "base_uri": "https://localhost:8080/"
        },
        "id": "llVTFa85Y09N",
        "outputId": "e888d405-60fd-40dc-a5c6-d5a8c31bba5e"
      },
      "execution_count": 54,
      "outputs": [
        {
          "output_type": "execute_result",
          "data": {
            "text/plain": [
              "{'batch_name': ['data science masters', 'web dev', 'JDG'],\n",
              " 'start_date': (12, 3, 24),\n",
              " 'mentor_name': {'Sudhanshu', 'amarnath', 'anurag', 'krish naik', 'lakshmi'},\n",
              " 'timing': [8, 8, 10]}"
            ]
          },
          "metadata": {},
          "execution_count": 54
        }
      ]
    },
    {
      "cell_type": "markdown",
      "source": [
        "## How to extract particular values from the dictionary"
      ],
      "metadata": {
        "id": "xVivAfwdeo6w"
      }
    },
    {
      "cell_type": "code",
      "source": [
        "# By using the key name, we get the value\n",
        "d16[\"batch_name\"]"
      ],
      "metadata": {
        "colab": {
          "base_uri": "https://localhost:8080/"
        },
        "id": "pfHsW6qqY05l",
        "outputId": "73c9ea48-1050-44e8-e917-89d643fc3cfe"
      },
      "execution_count": 55,
      "outputs": [
        {
          "output_type": "execute_result",
          "data": {
            "text/plain": [
              "['data science masters', 'web dev', 'JDG']"
            ]
          },
          "metadata": {},
          "execution_count": 55
        }
      ]
    },
    {
      "cell_type": "code",
      "source": [
        "d16[\"mentor_name\"]"
      ],
      "metadata": {
        "colab": {
          "base_uri": "https://localhost:8080/"
        },
        "id": "lpQf1ZoPgFgr",
        "outputId": "a6a6ae42-a915-4c82-8dd4-952bbea7475b"
      },
      "execution_count": 56,
      "outputs": [
        {
          "output_type": "execute_result",
          "data": {
            "text/plain": [
              "{'Sudhanshu', 'amarnath', 'anurag', 'krish naik', 'lakshmi'}"
            ]
          },
          "metadata": {},
          "execution_count": 56
        }
      ]
    },
    {
      "cell_type": "code",
      "source": [
        "## why we get the \"KeyError\" is, the \"key\" is not present in the dictionary\n",
        "d16['key']"
      ],
      "metadata": {
        "colab": {
          "base_uri": "https://localhost:8080/",
          "height": 210
        },
        "id": "nSnCjOX4gQD4",
        "outputId": "6731f68b-6493-495d-99c0-17b62713cd5f"
      },
      "execution_count": 57,
      "outputs": [
        {
          "output_type": "error",
          "ename": "KeyError",
          "evalue": "'key'",
          "traceback": [
            "\u001b[0;31m---------------------------------------------------------------------------\u001b[0m",
            "\u001b[0;31mKeyError\u001b[0m                                  Traceback (most recent call last)",
            "\u001b[0;32m<ipython-input-57-68645962dc1e>\u001b[0m in \u001b[0;36m<cell line: 2>\u001b[0;34m()\u001b[0m\n\u001b[1;32m      1\u001b[0m \u001b[0;31m## why we get the \"KeyError\" is, the \"key\" is not present in the dictionary\u001b[0m\u001b[0;34m\u001b[0m\u001b[0;34m\u001b[0m\u001b[0m\n\u001b[0;32m----> 2\u001b[0;31m \u001b[0md16\u001b[0m\u001b[0;34m[\u001b[0m\u001b[0;34m'key'\u001b[0m\u001b[0;34m]\u001b[0m\u001b[0;34m\u001b[0m\u001b[0;34m\u001b[0m\u001b[0m\n\u001b[0m",
            "\u001b[0;31mKeyError\u001b[0m: 'key'"
          ]
        }
      ]
    },
    {
      "cell_type": "code",
      "source": [
        "d16['name'] = \"lakshmi\""
      ],
      "metadata": {
        "id": "uuysRhxqgjYQ"
      },
      "execution_count": 58,
      "outputs": []
    },
    {
      "cell_type": "code",
      "source": [
        "d16['name'].capitalize()"
      ],
      "metadata": {
        "colab": {
          "base_uri": "https://localhost:8080/",
          "height": 35
        },
        "id": "JcVGxjCghcM5",
        "outputId": "983ce254-05b4-4463-bf0e-bb373efdc3d3"
      },
      "execution_count": 59,
      "outputs": [
        {
          "output_type": "execute_result",
          "data": {
            "text/plain": [
              "'Lakshmi'"
            ],
            "application/vnd.google.colaboratory.intrinsic+json": {
              "type": "string"
            }
          },
          "metadata": {},
          "execution_count": 59
        }
      ]
    },
    {
      "cell_type": "code",
      "source": [
        "d15['Student']['college_name']"
      ],
      "metadata": {
        "colab": {
          "base_uri": "https://localhost:8080/",
          "height": 35
        },
        "id": "5_JKn3Wmhl3Z",
        "outputId": "a66ca5a3-7b68-4eba-ff60-65bfa6374f4a"
      },
      "execution_count": 60,
      "outputs": [
        {
          "output_type": "execute_result",
          "data": {
            "text/plain": [
              "'rvr'"
            ],
            "application/vnd.google.colaboratory.intrinsic+json": {
              "type": "string"
            }
          },
          "metadata": {},
          "execution_count": 60
        }
      ]
    },
    {
      "cell_type": "code",
      "source": [
        "len(d16)"
      ],
      "metadata": {
        "colab": {
          "base_uri": "https://localhost:8080/"
        },
        "id": "91qbIJAixgny",
        "outputId": "249a043f-9f9c-4c3e-fa41-03a240efc488"
      },
      "execution_count": 61,
      "outputs": [
        {
          "output_type": "execute_result",
          "data": {
            "text/plain": [
              "5"
            ]
          },
          "metadata": {},
          "execution_count": 61
        }
      ]
    },
    {
      "cell_type": "code",
      "source": [
        "## How to get all the keys in a dictionary\n",
        "\n",
        "d16.keys()"
      ],
      "metadata": {
        "colab": {
          "base_uri": "https://localhost:8080/"
        },
        "id": "JAMN8YsvyxHZ",
        "outputId": "e6a756ea-371d-43d9-d9e0-6f9d7013ee5d"
      },
      "execution_count": 62,
      "outputs": [
        {
          "output_type": "execute_result",
          "data": {
            "text/plain": [
              "dict_keys(['batch_name', 'start_date', 'mentor_name', 'timing', 'name'])"
            ]
          },
          "metadata": {},
          "execution_count": 62
        }
      ]
    },
    {
      "cell_type": "code",
      "source": [
        "## How to get all the values in a dictionary\n",
        "d16.values()"
      ],
      "metadata": {
        "colab": {
          "base_uri": "https://localhost:8080/"
        },
        "id": "xgiOp1BAyxAo",
        "outputId": "bb042e34-7403-48c4-f4e7-9c903f6c48e5"
      },
      "execution_count": 63,
      "outputs": [
        {
          "output_type": "execute_result",
          "data": {
            "text/plain": [
              "dict_values([['data science masters', 'web dev', 'JDG'], (12, 3, 24), {'anurag', 'Sudhanshu', 'amarnath', 'lakshmi', 'krish naik'}, [8, 8, 10], 'lakshmi'])"
            ]
          },
          "metadata": {},
          "execution_count": 63
        }
      ]
    },
    {
      "cell_type": "code",
      "source": [
        "# I want to convert all the keys and values in a list\n",
        "list(d16.keys())"
      ],
      "metadata": {
        "colab": {
          "base_uri": "https://localhost:8080/"
        },
        "id": "BMRDFn-Cyw4f",
        "outputId": "b7faeaa9-77e5-4ad6-89f5-35b30beada5d"
      },
      "execution_count": 64,
      "outputs": [
        {
          "output_type": "execute_result",
          "data": {
            "text/plain": [
              "['batch_name', 'start_date', 'mentor_name', 'timing', 'name']"
            ]
          },
          "metadata": {},
          "execution_count": 64
        }
      ]
    },
    {
      "cell_type": "code",
      "source": [
        "list(d16.values())"
      ],
      "metadata": {
        "colab": {
          "base_uri": "https://localhost:8080/"
        },
        "id": "CaHmx9mlzy7I",
        "outputId": "05d1c64f-dfe0-47f6-c897-4d279af5783f"
      },
      "execution_count": 65,
      "outputs": [
        {
          "output_type": "execute_result",
          "data": {
            "text/plain": [
              "[['data science masters', 'web dev', 'JDG'],\n",
              " (12, 3, 24),\n",
              " {'Sudhanshu', 'amarnath', 'anurag', 'krish naik', 'lakshmi'},\n",
              " [8, 8, 10],\n",
              " 'lakshmi']"
            ]
          },
          "metadata": {},
          "execution_count": 65
        }
      ]
    },
    {
      "cell_type": "code",
      "source": [
        "# I want to fetch all keys and values in a same list\n",
        "list(d16.items())"
      ],
      "metadata": {
        "colab": {
          "base_uri": "https://localhost:8080/"
        },
        "id": "YVrrunib0W1D",
        "outputId": "c53b9c3c-606d-4dc3-ac25-f6a45376f55a"
      },
      "execution_count": 67,
      "outputs": [
        {
          "output_type": "execute_result",
          "data": {
            "text/plain": [
              "[('batch_name', ['data science masters', 'web dev', 'JDG']),\n",
              " ('start_date', (12, 3, 24)),\n",
              " ('mentor_name', {'Sudhanshu', 'amarnath', 'anurag', 'krish naik', 'lakshmi'}),\n",
              " ('timing', [8, 8, 10]),\n",
              " ('name', 'lakshmi')]"
            ]
          },
          "metadata": {},
          "execution_count": 67
        }
      ]
    },
    {
      "cell_type": "markdown",
      "source": [
        "## Deep Copy and Shallow copy"
      ],
      "metadata": {
        "id": "BYgQMJHP2oCs"
      }
    },
    {
      "cell_type": "markdown",
      "source": [
        "#### Deep copy means it will replicate all the data into a new memory.If we make any changes on the first variable, that doesn't effect on the newly created variable."
      ],
      "metadata": {
        "id": "xrfkDtxZ2zW4"
      }
    },
    {
      "cell_type": "code",
      "source": [
        "d17 = d16.copy()"
      ],
      "metadata": {
        "id": "emD5AOjk2uTQ"
      },
      "execution_count": 68,
      "outputs": []
    },
    {
      "cell_type": "code",
      "source": [
        "# remove specified key and return the corresponding value\n",
        "d17.pop(\"name\")"
      ],
      "metadata": {
        "colab": {
          "base_uri": "https://localhost:8080/",
          "height": 35
        },
        "id": "gnBdl09u3ZcX",
        "outputId": "71441edb-5915-4522-cf31-c6d0cad1a9d6"
      },
      "execution_count": 69,
      "outputs": [
        {
          "output_type": "execute_result",
          "data": {
            "text/plain": [
              "'lakshmi'"
            ],
            "application/vnd.google.colaboratory.intrinsic+json": {
              "type": "string"
            }
          },
          "metadata": {},
          "execution_count": 69
        }
      ]
    },
    {
      "cell_type": "code",
      "source": [
        "d17"
      ],
      "metadata": {
        "colab": {
          "base_uri": "https://localhost:8080/"
        },
        "id": "B6J3yEPs3iHP",
        "outputId": "21b872ef-614d-48dc-8951-560ec591883e"
      },
      "execution_count": 70,
      "outputs": [
        {
          "output_type": "execute_result",
          "data": {
            "text/plain": [
              "{'batch_name': ['data science masters', 'web dev', 'JDG'],\n",
              " 'start_date': (12, 3, 24),\n",
              " 'mentor_name': {'Sudhanshu', 'amarnath', 'anurag', 'krish naik', 'lakshmi'},\n",
              " 'timing': [8, 8, 10]}"
            ]
          },
          "metadata": {},
          "execution_count": 70
        }
      ]
    },
    {
      "cell_type": "code",
      "source": [
        "d16"
      ],
      "metadata": {
        "colab": {
          "base_uri": "https://localhost:8080/"
        },
        "id": "eNSxBWLZ3kOY",
        "outputId": "eaf3623d-7c3c-43ce-918a-86a66280d492"
      },
      "execution_count": 71,
      "outputs": [
        {
          "output_type": "execute_result",
          "data": {
            "text/plain": [
              "{'batch_name': ['data science masters', 'web dev', 'JDG'],\n",
              " 'start_date': (12, 3, 24),\n",
              " 'mentor_name': {'Sudhanshu', 'amarnath', 'anurag', 'krish naik', 'lakshmi'},\n",
              " 'timing': [8, 8, 10],\n",
              " 'name': 'lakshmi'}"
            ]
          },
          "metadata": {},
          "execution_count": 71
        }
      ]
    },
    {
      "cell_type": "code",
      "source": [
        "## Shallow copy means it copies the data into the same memory. If we perform any operations on any variable, it will effect\n",
        "d18 = d16"
      ],
      "metadata": {
        "id": "M3yzJaki3mNb"
      },
      "execution_count": 72,
      "outputs": []
    },
    {
      "cell_type": "code",
      "source": [
        "d.fromkeys((1,2,3),(\"a\",\"b\",\"c\"))"
      ],
      "metadata": {
        "colab": {
          "base_uri": "https://localhost:8080/"
        },
        "id": "mwbf4u4t32ps",
        "outputId": "f5ce02f5-30da-428a-cccb-9a5a1f7c5bae"
      },
      "execution_count": 74,
      "outputs": [
        {
          "output_type": "execute_result",
          "data": {
            "text/plain": [
              "{1: ('a', 'b', 'c'), 2: ('a', 'b', 'c'), 3: ('a', 'b', 'c')}"
            ]
          },
          "metadata": {},
          "execution_count": 74
        }
      ]
    },
    {
      "cell_type": "code",
      "source": [
        "d19 = {\"key1\":\"value1\",\"key2\":\"value2\"}\n",
        "d20 = {\"key3\":\"value3\",\"key4\":\"value4\"}"
      ],
      "metadata": {
        "id": "FW8EL3a093H7"
      },
      "execution_count": 75,
      "outputs": []
    },
    {
      "cell_type": "code",
      "source": [
        "(d19,d20)"
      ],
      "metadata": {
        "colab": {
          "base_uri": "https://localhost:8080/"
        },
        "id": "Fyll-WKm32l-",
        "outputId": "9b760e44-eaaf-4c43-84df-4a9deb36a43c"
      },
      "execution_count": 76,
      "outputs": [
        {
          "output_type": "execute_result",
          "data": {
            "text/plain": [
              "({'key1': 'value1', 'key2': 'value2'}, {'key3': 'value3', 'key4': 'value4'})"
            ]
          },
          "metadata": {},
          "execution_count": 76
        }
      ]
    },
    {
      "cell_type": "code",
      "source": [
        "d19.update(d20)\n",
        "d19"
      ],
      "metadata": {
        "colab": {
          "base_uri": "https://localhost:8080/"
        },
        "id": "fBKlcKwR32i9",
        "outputId": "b17bb23f-af61-444e-fb41-2b1ee591f32c"
      },
      "execution_count": 78,
      "outputs": [
        {
          "output_type": "execute_result",
          "data": {
            "text/plain": [
              "{'key1': 'value1', 'key2': 'value2', 'key3': 'value3', 'key4': 'value4'}"
            ]
          },
          "metadata": {},
          "execution_count": 78
        }
      ]
    },
    {
      "cell_type": "code",
      "source": [
        "d20"
      ],
      "metadata": {
        "colab": {
          "base_uri": "https://localhost:8080/"
        },
        "id": "4tjCgV0g32fC",
        "outputId": "c40d485b-4088-46e3-aa69-7a54772b4508"
      },
      "execution_count": 79,
      "outputs": [
        {
          "output_type": "execute_result",
          "data": {
            "text/plain": [
              "{'key3': 'value3', 'key4': 'value4'}"
            ]
          },
          "metadata": {},
          "execution_count": 79
        }
      ]
    },
    {
      "cell_type": "code",
      "source": [
        "d20.update(d19)"
      ],
      "metadata": {
        "id": "k3XJvqxT32aY"
      },
      "execution_count": 80,
      "outputs": []
    },
    {
      "cell_type": "code",
      "source": [
        "d20"
      ],
      "metadata": {
        "colab": {
          "base_uri": "https://localhost:8080/"
        },
        "id": "8T7sDUcl32TI",
        "outputId": "b52ba2d2-08a0-44e1-efca-978c02db359c"
      },
      "execution_count": 81,
      "outputs": [
        {
          "output_type": "execute_result",
          "data": {
            "text/plain": [
              "{'key3': 'value3', 'key4': 'value4', 'key1': 'value1', 'key2': 'value2'}"
            ]
          },
          "metadata": {},
          "execution_count": 81
        }
      ]
    },
    {
      "cell_type": "code",
      "source": [
        "# Return the value for key if key is in the dictionary, else default.\n",
        "d20.get(\"key3\")"
      ],
      "metadata": {
        "colab": {
          "base_uri": "https://localhost:8080/",
          "height": 35
        },
        "id": "H9drrxfh32JP",
        "outputId": "0ad5973e-ba53-4f43-d468-51688ace496d"
      },
      "execution_count": 84,
      "outputs": [
        {
          "output_type": "execute_result",
          "data": {
            "text/plain": [
              "'value3'"
            ],
            "application/vnd.google.colaboratory.intrinsic+json": {
              "type": "string"
            }
          },
          "metadata": {},
          "execution_count": 84
        }
      ]
    },
    {
      "cell_type": "markdown",
      "source": [
        "#### Dictionary Comprehensions"
      ],
      "metadata": {
        "id": "CLhq9-4ED1rf"
      }
    },
    {
      "cell_type": "code",
      "source": [
        "{i:i**2 for i in range(1,11)}"
      ],
      "metadata": {
        "colab": {
          "base_uri": "https://localhost:8080/"
        },
        "id": "BnsxDtIl316f",
        "outputId": "e7745e6b-b344-4e27-97eb-f8957d476312"
      },
      "execution_count": 85,
      "outputs": [
        {
          "output_type": "execute_result",
          "data": {
            "text/plain": [
              "{1: 1, 2: 4, 3: 9, 4: 16, 5: 25, 6: 36, 7: 49, 8: 64, 9: 81, 10: 100}"
            ]
          },
          "metadata": {},
          "execution_count": 85
        }
      ]
    },
    {
      "cell_type": "code",
      "source": [
        "{i:i+10 for i in range(1,11)}"
      ],
      "metadata": {
        "colab": {
          "base_uri": "https://localhost:8080/"
        },
        "id": "aEELceppEG3J",
        "outputId": "62dc4fe9-8699-42e6-a2e5-cdc7a9000197"
      },
      "execution_count": 86,
      "outputs": [
        {
          "output_type": "execute_result",
          "data": {
            "text/plain": [
              "{1: 11, 2: 12, 3: 13, 4: 14, 5: 15, 6: 16, 7: 17, 8: 18, 9: 19, 10: 20}"
            ]
          },
          "metadata": {},
          "execution_count": 86
        }
      ]
    },
    {
      "cell_type": "code",
      "source": [
        "import math\n",
        "d21 = {i:math.log10(i) for i in range(1,11)}"
      ],
      "metadata": {
        "id": "yHGsAld0Ezto"
      },
      "execution_count": 89,
      "outputs": []
    },
    {
      "cell_type": "code",
      "source": [
        "# I want to check 'batchname' is available in the dictionary or not\n",
        "'batch_name' in d16"
      ],
      "metadata": {
        "colab": {
          "base_uri": "https://localhost:8080/"
        },
        "id": "KDWE8OvfFJxw",
        "outputId": "98404a00-c116-4ab6-f1db-0f0d88038979"
      },
      "execution_count": 88,
      "outputs": [
        {
          "output_type": "execute_result",
          "data": {
            "text/plain": [
              "True"
            ]
          },
          "metadata": {},
          "execution_count": 88
        }
      ]
    },
    {
      "cell_type": "code",
      "source": [
        "d21"
      ],
      "metadata": {
        "colab": {
          "base_uri": "https://localhost:8080/"
        },
        "id": "OpeRZWOkFeug",
        "outputId": "c2ba1fc1-d042-46cb-d1b8-1e707d0589f0"
      },
      "execution_count": 90,
      "outputs": [
        {
          "output_type": "execute_result",
          "data": {
            "text/plain": [
              "{1: 0.0,\n",
              " 2: 0.3010299956639812,\n",
              " 3: 0.47712125471966244,\n",
              " 4: 0.6020599913279624,\n",
              " 5: 0.6989700043360189,\n",
              " 6: 0.7781512503836436,\n",
              " 7: 0.8450980400142568,\n",
              " 8: 0.9030899869919435,\n",
              " 9: 0.9542425094393249,\n",
              " 10: 1.0}"
            ]
          },
          "metadata": {},
          "execution_count": 90
        }
      ]
    },
    {
      "cell_type": "code",
      "source": [
        "for i in d21.keys():\n",
        "  if i%2==0:\n",
        "    print(d21[i])\n"
      ],
      "metadata": {
        "colab": {
          "base_uri": "https://localhost:8080/"
        },
        "id": "ICD94O2jFg_P",
        "outputId": "7936b8c0-7c3c-47a7-bb86-b81992936920"
      },
      "execution_count": 92,
      "outputs": [
        {
          "output_type": "stream",
          "name": "stdout",
          "text": [
            "0.3010299956639812\n",
            "0.6020599913279624\n",
            "0.7781512503836436\n",
            "0.9030899869919435\n",
            "1.0\n"
          ]
        }
      ]
    }
  ]
}
